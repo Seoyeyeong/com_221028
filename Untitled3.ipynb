{
  "nbformat": 4,
  "nbformat_minor": 0,
  "metadata": {
    "colab": {
      "provenance": [],
      "authorship_tag": "ABX9TyMrtUMTpjvUKbI9x9lWzNsb",
      "include_colab_link": true
    },
    "kernelspec": {
      "name": "python3",
      "display_name": "Python 3"
    },
    "language_info": {
      "name": "python"
    }
  },
  "cells": [
    {
      "cell_type": "markdown",
      "metadata": {
        "id": "view-in-github",
        "colab_type": "text"
      },
      "source": [
        "<a href=\"https://colab.research.google.com/github/Seoyeyeong/com_221028/blob/main/Untitled3.ipynb\" target=\"_parent\"><img src=\"https://colab.research.google.com/assets/colab-badge.svg\" alt=\"Open In Colab\"/></a>"
      ]
    },
    {
      "cell_type": "code",
      "execution_count": 1,
      "metadata": {
        "colab": {
          "base_uri": "https://localhost:8080/"
        },
        "id": "jjFGmt2WZuPi",
        "outputId": "818107b8-1ceb-44ee-a84f-d9bf8d2834d2"
      },
      "outputs": [
        {
          "output_type": "stream",
          "name": "stdout",
          "text": [
            "Enter grade: 10\n",
            "Enter grade: 10\n",
            "Enter grade: 10\n",
            "Enter grade: 10\n",
            "Enter grade: 10\n",
            "Enter grade: 10\n",
            "Enter grade: 10\n",
            "Enter grade: 10\n",
            "Enter grade: 10\n",
            "Enter grade: 10\n",
            "0.0\n"
          ]
        }
      ],
      "source": [
        "total = 0\n",
        "counter = 1\n",
        "grade = 0\n",
        "while counter <= 10:\n",
        "  int(input (\"Enter grade: \"))\n",
        "  total = grade + total\n",
        "  counter = counter + 1\n",
        "average = total / 10\n",
        "print(average)\n",
        "\n",
        "print(\"3개의 값을 입력하시오\")\n",
        "x = int(input(\"Enter the x:\"))\n",
        "y = int(input(\"Enter the y:\"))\n",
        "z = int(input(\"Enter the z:\"))\n",
        "x = x + 1\n",
        "y = y + 1\n",
        "z = z + 1\n",
        "print(\"변경된 값 : \", x, y, z)\n",
        "\n",
        "a = 1\n",
        "b = 6000\n",
        "c = a * b\n",
        "print(c)\n",
        "\n",
        "pay_rate = 8750\n",
        "hours_worked = int(input(\"일을 한 전체 시간을 입력하세요!: \" ))\n",
        "monthly_pay = hours_worked * pay_rate\n",
        "print(monthly_pay)\n",
        "\n",
        "won = 100000\n",
        "usd = won * 1130\n",
        "print(usd)\n",
        "\n",
        "exchange_rate = int(input(\"현재 환율 입력: \"))\n",
        "won = 100000\n",
        "usd = won * exchange_rate\n",
        "print(usd)\n",
        "\n",
        "x = 0\n",
        "y = 0\n",
        "x = int(input(\"정수 x를 입력하시오: \"))\n",
        "y = int(input(\"정수 y를 입력하시오: \"))\n",
        "sum = x + y\n",
        "print(sum)\n",
        "\n",
        "age = int(input(\"현재나이를 입력하시오.: \"))\n",
        "age = age + 10\n",
        "print(\"10년 후면\", age, \"세가 되시는 군요\")\n",
        "\n",
        "print(\"########################\")\n",
        "print(\"# 배송료 계산 프로그램 #\")\n",
        "print(\"########################\")\n",
        "price= int(input(\"상품의 가격을 입력하세요: \"))\n",
        "if price > 2000:\n",
        "  shipping_cost = 0\n",
        "else:\n",
        "  shipping_cost = 3000\n",
        "print(shipping_cost)\n"
      ]
    }
  ]
}