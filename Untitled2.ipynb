{
  "nbformat": 4,
  "nbformat_minor": 0,
  "metadata": {
    "colab": {
      "provenance": [],
      "authorship_tag": "ABX9TyOBDL76Wh13zbBkScRfzUsR",
      "include_colab_link": true
    },
    "kernelspec": {
      "name": "python3",
      "display_name": "Python 3"
    },
    "language_info": {
      "name": "python"
    }
  },
  "cells": [
    {
      "cell_type": "markdown",
      "metadata": {
        "id": "view-in-github",
        "colab_type": "text"
      },
      "source": [
        "<a href=\"https://colab.research.google.com/github/Seoyeyeong/com_221028/blob/main/Untitled2.ipynb\" target=\"_parent\"><img src=\"https://colab.research.google.com/assets/colab-badge.svg\" alt=\"Open In Colab\"/></a>"
      ]
    },
    {
      "cell_type": "code",
      "execution_count": 1,
      "metadata": {
        "colab": {
          "base_uri": "https://localhost:8080/"
        },
        "id": "LxpWW45wYm-f",
        "outputId": "7f1336ff-11f9-4dd6-f67e-2904f26a311b"
      },
      "outputs": [
        {
          "output_type": "stream",
          "name": "stdout",
          "text": [
            "점수를 입력하시오.: 10\n",
            "점수를 입력하시오.: 10\n",
            "점수를 입력하시오.: 10\n",
            "점수를 입력하시오.: 10\n",
            "점수를 입력하시오.: 10\n",
            "점수를 입력하시오.: 10\n",
            "점수를 입력하시오.: 10\n",
            "점수를 입력하시오.: 10\n",
            "점수를 입력하시오.: 10\n",
            "점수를 입력하시오.: 10\n",
            "10.0\n",
            "12\n",
            "Hello World! 안녕 파이썬!\n",
            "7\n",
            "##########\n",
            "# 안녕하세요? #\n",
            "##########\n",
            "3개의 값을 입력하시오.\n",
            "x의 값을 입력하시오.:2\n",
            "y의 값을 입력하시오.:3\n",
            "z의 값을 입력하시오.:4\n",
            "변경된 값은: 3 4 5 로 변경되었습니다.\n",
            "14180000\n",
            "현재 환율을 입력하시오.:\n",
            "달러의 환율금액을 입력: 1418\n",
            "한화를 입력하시오.: 5000\n",
            "7090000\n",
            "37.77777777777778\n",
            "37.77777777777778\n"
          ]
        }
      ],
      "source": [
        "total = 0\n",
        "counter = 1\n",
        "while counter <= 10:\n",
        "  grade = int(input(\"점수를 입력하시오.: \"))\n",
        "  total = grade + total\n",
        "  counter = counter + 1\n",
        "average = total / 10\n",
        "print(average)\n",
        "x = 10\n",
        "y = 2\n",
        "result = x + y\n",
        "print(result)\n",
        "print(\"Hello World! 안녕 파이썬!\");\n",
        "print(4+3);\n",
        "print(\"#\" * 10)\n",
        "print(\"# 안녕하세요? #\")\n",
        "print(\"#\" * 10)\n",
        "print(\"3개의 값을 입력하시오.\")\n",
        "x = int(input(\"x의 값을 입력하시오.:\"))\n",
        "y = int(input(\"y의 값을 입력하시오.:\"))\n",
        "z = int(input(\"z의 값을 입력하시오.:\"))\n",
        "x = x + 1\n",
        "y = y + 1\n",
        "z = z + 1\n",
        "print(\"변경된 값은:\", x, y, z,\"로 변경되었습니다.\")\n",
        "won = 10000\n",
        "usd = won * 1418\n",
        "print(usd)\n",
        "print(\"현재 환율을 입력하시오.:\")\n",
        "exchange_rate = int(input(\"달러의 환율금액을 입력: \"))\n",
        "won = int(input(\"한화를 입력하시오.: \"))\n",
        "usd = won * exchange_rate\n",
        "print(usd)\n",
        "fahrenheit = 100\n",
        "ceisius = fahrenheit - 32\n",
        "ceisius = ceisius * 5\n",
        "ceisius = ceisius / 9\n",
        "print(ceisius)\n",
        "fahrenheit = 100\n",
        "ceisius = 5 * (fahrenheit-32)/9\n",
        "print(ceisius)"
      ]
    }
  ]
}